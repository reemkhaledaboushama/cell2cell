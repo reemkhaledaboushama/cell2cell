{
 "cells": [
  {
   "cell_type": "markdown",
   "id": "5dc304a2-b2bf-4625-9485-fcc5bb3ab464",
   "metadata": {},
   "source": [
    "## Table Of Contents\n",
    "* [1- Loading the Dataset](#1-LoadingtheDataset)\n",
    "* [2- Data-Preprocessing](#Data-Preprocessing)"
   ]
  },
  {
   "cell_type": "markdown",
   "id": "4bd7eeb7-5466-42d0-a5b5-067c07aafd50",
   "metadata": {},
   "source": [
    "<h1>1- Loading the Dataset </h1>"
   ]
  },
  {
   "cell_type": "code",
   "execution_count": null,
   "id": "8ef77952-180e-4e59-aeb9-d179bf3e7b5f",
   "metadata": {},
   "outputs": [],
   "source": []
  },
  {
   "cell_type": "markdown",
   "id": "f9aab1b5-4eb6-4732-8e44-465fce9bba01",
   "metadata": {},
   "source": [
    "<h1> 2- Data-Preprocessing </h1> "
   ]
  },
  {
   "cell_type": "code",
   "execution_count": null,
   "id": "1f25753b-f48b-4f62-97c7-f70dc0d0f968",
   "metadata": {},
   "outputs": [],
   "source": []
  }
 ],
 "metadata": {
  "kernelspec": {
   "display_name": "Python 3 (ipykernel)",
   "language": "python",
   "name": "python3"
  },
  "language_info": {
   "codemirror_mode": {
    "name": "ipython",
    "version": 3
   },
   "file_extension": ".py",
   "mimetype": "text/x-python",
   "name": "python",
   "nbconvert_exporter": "python",
   "pygments_lexer": "ipython3",
   "version": "3.11.5"
  }
 },
 "nbformat": 4,
 "nbformat_minor": 5
}
